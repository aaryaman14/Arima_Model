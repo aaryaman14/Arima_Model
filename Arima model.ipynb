{
 "cells": [
  {
   "cell_type": "code",
   "execution_count": 1,
   "id": "3e38051f",
   "metadata": {},
   "outputs": [],
   "source": [
    "import pandas as pd\n",
    "import matplotlib.pyplot as plt\n",
    "import numpy as np"
   ]
  },
  {
   "cell_type": "code",
   "execution_count": 2,
   "id": "bdc1efc0",
   "metadata": {},
   "outputs": [],
   "source": [
    "from statsmodels.tsa.seasonal import seasonal_decompose\n",
    "from statsmodels.tsa.stattools import adfuller"
   ]
  },
  {
   "cell_type": "code",
   "execution_count": 3,
   "id": "4983e982",
   "metadata": {},
   "outputs": [
    {
     "name": "stdout",
     "output_type": "stream",
     "text": [
      "Shape:  (3625, 1)\n"
     ]
    },
    {
     "data": {
      "text/html": [
       "<div>\n",
       "<style scoped>\n",
       "    .dataframe tbody tr th:only-of-type {\n",
       "        vertical-align: middle;\n",
       "    }\n",
       "\n",
       "    .dataframe tbody tr th {\n",
       "        vertical-align: top;\n",
       "    }\n",
       "\n",
       "    .dataframe thead th {\n",
       "        text-align: right;\n",
       "    }\n",
       "</style>\n",
       "<table border=\"1\" class=\"dataframe\">\n",
       "  <thead>\n",
       "    <tr style=\"text-align: right;\">\n",
       "      <th></th>\n",
       "      <th>Rain</th>\n",
       "    </tr>\n",
       "    <tr>\n",
       "      <th>Date</th>\n",
       "      <th></th>\n",
       "    </tr>\n",
       "  </thead>\n",
       "  <tbody>\n",
       "    <tr>\n",
       "      <th>2011-01-01</th>\n",
       "      <td>3231</td>\n",
       "    </tr>\n",
       "    <tr>\n",
       "      <th>2011-01-02</th>\n",
       "      <td>3231</td>\n",
       "    </tr>\n",
       "    <tr>\n",
       "      <th>2011-01-03</th>\n",
       "      <td>3231</td>\n",
       "    </tr>\n",
       "    <tr>\n",
       "      <th>2011-01-04</th>\n",
       "      <td>3231</td>\n",
       "    </tr>\n",
       "    <tr>\n",
       "      <th>2011-01-05</th>\n",
       "      <td>3231</td>\n",
       "    </tr>\n",
       "  </tbody>\n",
       "</table>\n",
       "</div>"
      ],
      "text/plain": [
       "            Rain\n",
       "Date            \n",
       "2011-01-01  3231\n",
       "2011-01-02  3231\n",
       "2011-01-03  3231\n",
       "2011-01-04  3231\n",
       "2011-01-05  3231"
      ]
     },
     "execution_count": 3,
     "metadata": {},
     "output_type": "execute_result"
    }
   ],
   "source": [
    "df = pd.read_csv('rainfall.csv')\n",
    "df['Date'] = pd.to_datetime(df['Date']).dt.strftime(\"%d-%m-%Y\")\n",
    "df['Date'] = pd.to_datetime(df['Date'])\n",
    "df.set_index('Date', inplace=True)\n",
    "df\n",
    "print('Shape: ',df.shape)\n",
    "df.head()"
   ]
  },
  {
   "cell_type": "code",
   "execution_count": 4,
   "id": "33a554a9",
   "metadata": {},
   "outputs": [
    {
     "data": {
      "text/plain": [
       "Date\n",
       "2011-01-01    3231\n",
       "2011-01-02    3231\n",
       "2011-01-03    3231\n",
       "2011-01-04    3231\n",
       "2011-01-05    3231\n",
       "              ... \n",
       "2020-11-29    2814\n",
       "2020-11-30    2848\n",
       "2020-12-01    2902\n",
       "2020-12-02    2873\n",
       "2020-12-03    2867\n",
       "Name: Rain, Length: 3625, dtype: int64"
      ]
     },
     "execution_count": 4,
     "metadata": {},
     "output_type": "execute_result"
    }
   ],
   "source": [
    "df['Rain']"
   ]
  },
  {
   "cell_type": "code",
   "execution_count": 5,
   "id": "7ab3f57d",
   "metadata": {},
   "outputs": [
    {
     "data": {
      "image/png": "[encoded data removed]",
      "text/plain": [
       "<Figure size 432x288 with 1 Axes>"
      ]
     },
     "metadata": {
      "needs_background": "light"
     },
     "output_type": "display_data"
    }
   ],
   "source": [
    "df['Rain'].plot(fontsize=12, color='r',ylabel='Temp')\n",
    "plt.show()"
   ]
  },
  {
   "cell_type": "code",
   "execution_count": 6,
   "id": "922faec3",
   "metadata": {},
   "outputs": [],
   "source": [
    "from statsmodels.tsa.stattools import adfuller\n",
    "\n",
    "def ad_test(dataset):\n",
    "    dftest=adfuller(dataset,autolag='AIC')\n",
    "    print('1. ADF: ',dftest[0])\n",
    "    print('2. p-value: ',dftest[1])\n",
    "    print('3. No. of lags: ',dftest[2])\n",
    "    print('4. No. of observations used for ADF regression and critical values calculation: ',dftest[3])\n",
    "    print('5. Critical Values: ')\n",
    "    for key, val in dftest[4].items():\n",
    "        print('\\t',key,': ',val)"
   ]
  },
  {
   "cell_type": "code",
   "execution_count": 7,
   "id": "02f6bcdc",
   "metadata": {},
   "outputs": [
    {
     "name": "stdout",
     "output_type": "stream",
     "text": [
      "1. ADF:  -2.9005704800947982\n",
      "2. p-value:  0.045281698606336025\n",
      "3. No. of lags:  8\n",
      "4. No. of observations used for ADF regression and critical values calculation:  3616\n",
      "5. Critical Values: \n",
      "\t 1% :  -3.432159720193857\n",
      "\t 5% :  -2.862339633287972\n",
      "\t 10% :  -2.56719565730786\n"
     ]
    }
   ],
   "source": [
    "ad_test(df['Rain'])"
   ]
  },
  {
   "cell_type": "code",
   "execution_count": 8,
   "id": "f5471af5",
   "metadata": {},
   "outputs": [],
   "source": [
    "from pmdarima import auto_arima\n",
    "\n",
    "import warnings\n",
    "warnings.filterwarnings('ignore')"
   ]
  },
  {
   "cell_type": "code",
   "execution_count": 9,
   "id": "5031c620",
   "metadata": {},
   "outputs": [
    {
     "name": "stdout",
     "output_type": "stream",
     "text": [
      "Performing stepwise search to minimize aic\n",
      " ARIMA(2,1,2)(0,0,0)[0] intercept   : AIC=41262.712, Time=2.15 sec\n",
      " ARIMA(0,1,0)(0,0,0)[0] intercept   : AIC=41852.754, Time=0.06 sec\n",
      " ARIMA(1,1,0)(0,0,0)[0] intercept   : AIC=41423.845, Time=0.14 sec\n",
      " ARIMA(0,1,1)(0,0,0)[0] intercept   : AIC=41469.301, Time=0.51 sec\n",
      " ARIMA(0,1,0)(0,0,0)[0]             : AIC=41850.760, Time=0.03 sec\n",
      " ARIMA(1,1,2)(0,0,0)[0] intercept   : AIC=41260.859, Time=1.41 sec\n",
      " ARIMA(0,1,2)(0,0,0)[0] intercept   : AIC=41385.002, Time=0.66 sec\n",
      " ARIMA(1,1,1)(0,0,0)[0] intercept   : AIC=41422.573, Time=0.32 sec\n",
      " ARIMA(1,1,3)(0,0,0)[0] intercept   : AIC=41262.691, Time=2.02 sec\n",
      " ARIMA(0,1,3)(0,0,0)[0] intercept   : AIC=41328.348, Time=0.52 sec\n",
      " ARIMA(2,1,1)(0,0,0)[0] intercept   : AIC=41415.485, Time=0.90 sec\n",
      " ARIMA(2,1,3)(0,0,0)[0] intercept   : AIC=41264.802, Time=2.92 sec\n",
      " ARIMA(1,1,2)(0,0,0)[0]             : AIC=41258.860, Time=0.78 sec\n",
      " ARIMA(0,1,2)(0,0,0)[0]             : AIC=41383.013, Time=0.33 sec\n",
      " ARIMA(1,1,1)(0,0,0)[0]             : AIC=41420.585, Time=0.15 sec\n",
      " ARIMA(2,1,2)(0,0,0)[0]             : AIC=41260.713, Time=0.79 sec\n",
      " ARIMA(1,1,3)(0,0,0)[0]             : AIC=41260.700, Time=0.71 sec\n",
      " ARIMA(0,1,1)(0,0,0)[0]             : AIC=41467.314, Time=0.19 sec\n",
      " ARIMA(0,1,3)(0,0,0)[0]             : AIC=41326.359, Time=0.25 sec\n",
      " ARIMA(2,1,1)(0,0,0)[0]             : AIC=41413.456, Time=0.73 sec\n",
      " ARIMA(2,1,3)(0,0,0)[0]             : AIC=41262.838, Time=0.44 sec\n",
      "\n",
      "Best model:  ARIMA(1,1,2)(0,0,0)[0]          \n",
      "Total fit time: 16.195 seconds\n"
     ]
    },
    {
     "data": {
      "text/html": [
       "<table class=\"simpletable\">\n",
       "<caption>SARIMAX Results</caption>\n",
       "<tr>\n",
       "  <th>Dep. Variable:</th>           <td>y</td>        <th>  No. Observations:  </th>    <td>3625</td>   \n",
       "</tr>\n",
       "<tr>\n",
       "  <th>Model:</th>           <td>SARIMAX(1, 1, 2)</td> <th>  Log Likelihood     </th> <td>-20625.430</td>\n",
       "</tr>\n",
       "<tr>\n",
       "  <th>Date:</th>            <td>Mon, 19 Jul 2021</td> <th>  AIC                </th>  <td>41258.860</td>\n",
       "</tr>\n",
       "<tr>\n",
       "  <th>Time:</th>                <td>16:11:37</td>     <th>  BIC                </th>  <td>41283.642</td>\n",
       "</tr>\n",
       "<tr>\n",
       "  <th>Sample:</th>                  <td>0</td>        <th>  HQIC               </th>  <td>41267.689</td>\n",
       "</tr>\n",
       "<tr>\n",
       "  <th></th>                      <td> - 3625</td>     <th>                     </th>      <td> </td>    \n",
       "</tr>\n",
       "<tr>\n",
       "  <th>Covariance Type:</th>        <td>opg</td>       <th>                     </th>      <td> </td>    \n",
       "</tr>\n",
       "</table>\n",
       "<table class=\"simpletable\">\n",
       "<tr>\n",
       "     <td></td>       <th>coef</th>     <th>std err</th>      <th>z</th>      <th>P>|z|</th>  <th>[0.025</th>    <th>0.975]</th>  \n",
       "</tr>\n",
       "<tr>\n",
       "  <th>ar.L1</th>  <td>    0.8049</td> <td>    0.013</td> <td>   61.353</td> <td> 0.000</td> <td>    0.779</td> <td>    0.831</td>\n",
       "</tr>\n",
       "<tr>\n",
       "  <th>ma.L1</th>  <td>   -1.1844</td> <td>    0.013</td> <td>  -90.645</td> <td> 0.000</td> <td>   -1.210</td> <td>   -1.159</td>\n",
       "</tr>\n",
       "<tr>\n",
       "  <th>ma.L2</th>  <td>    0.4143</td> <td>    0.005</td> <td>   90.533</td> <td> 0.000</td> <td>    0.405</td> <td>    0.423</td>\n",
       "</tr>\n",
       "<tr>\n",
       "  <th>sigma2</th> <td> 5139.3727</td> <td>    6.175</td> <td>  832.293</td> <td> 0.000</td> <td> 5127.270</td> <td> 5151.475</td>\n",
       "</tr>\n",
       "</table>\n",
       "<table class=\"simpletable\">\n",
       "<tr>\n",
       "  <th>Ljung-Box (L1) (Q):</th>     <td>0.02</td> <th>  Jarque-Bera (JB):  </th> <td>117018429.96</td>\n",
       "</tr>\n",
       "<tr>\n",
       "  <th>Prob(Q):</th>                <td>0.89</td> <th>  Prob(JB):          </th>     <td>0.00</td>    \n",
       "</tr>\n",
       "<tr>\n",
       "  <th>Heteroskedasticity (H):</th> <td>1.06</td> <th>  Skew:              </th>     <td>13.85</td>   \n",
       "</tr>\n",
       "<tr>\n",
       "  <th>Prob(H) (two-sided):</th>    <td>0.28</td> <th>  Kurtosis:          </th>    <td>882.88</td>   \n",
       "</tr>\n",
       "</table><br/><br/>Warnings:<br/>[1] Covariance matrix calculated using the outer product of gradients (complex-step)."
      ],
      "text/plain": [
       "<class 'statsmodels.iolib.summary.Summary'>\n",
       "\"\"\"\n",
       "                               SARIMAX Results                                \n",
       "==============================================================================\n",
       "Dep. Variable:                      y   No. Observations:                 3625\n",
       "Model:               SARIMAX(1, 1, 2)   Log Likelihood              -20625.430\n",
       "Date:                Mon, 19 Jul 2021   AIC                          41258.860\n",
       "Time:                        16:11:37   BIC                          41283.642\n",
       "Sample:                             0   HQIC                         41267.689\n",
       "                               - 3625                                         \n",
       "Covariance Type:                  opg                                         \n",
       "==============================================================================\n",
       "                 coef    std err          z      P>|z|      [0.025      0.975]\n",
       "------------------------------------------------------------------------------\n",
       "ar.L1          0.8049      0.013     61.353      0.000       0.779       0.831\n",
       "ma.L1         -1.1844      0.013    -90.645      0.000      -1.210      -1.159\n",
       "ma.L2          0.4143      0.005     90.533      0.000       0.405       0.423\n",
       "sigma2      5139.3727      6.175    832.293      0.000    5127.270    5151.475\n",
       "===================================================================================\n",
       "Ljung-Box (L1) (Q):                   0.02   Jarque-Bera (JB):         117018429.96\n",
       "Prob(Q):                              0.89   Prob(JB):                         0.00\n",
       "Heteroskedasticity (H):               1.06   Skew:                            13.85\n",
       "Prob(H) (two-sided):                  0.28   Kurtosis:                       882.88\n",
       "===================================================================================\n",
       "\n",
       "Warnings:\n",
       "[1] Covariance matrix calculated using the outer product of gradients (complex-step).\n",
       "\"\"\""
      ]
     },
     "execution_count": 9,
     "metadata": {},
     "output_type": "execute_result"
    }
   ],
   "source": [
    "stepwise_fit=auto_arima(df['Rain'],trace=True,suppress_warnings=True)\n",
    "stepwise_fit.summary()"
   ]
  },
  {
   "cell_type": "code",
   "execution_count": 10,
   "id": "fb92aa04",
   "metadata": {},
   "outputs": [],
   "source": [
    "from statsmodels.tsa.arima_model import ARIMA"
   ]
  },
  {
   "cell_type": "code",
   "execution_count": 11,
   "id": "e7ee51b5",
   "metadata": {},
   "outputs": [
    {
     "name": "stdout",
     "output_type": "stream",
     "text": [
      "(3625, 1)\n",
      "(3595, 1) (3595, 1)\n"
     ]
    }
   ],
   "source": [
    "print(df.shape)\n",
    "train=df.iloc[:-30]\n",
    "test=df.iloc[-30:]\n",
    "print(train.shape,train.shape)"
   ]
  },
  {
   "cell_type": "code",
   "execution_count": 12,
   "id": "ee799fc3",
   "metadata": {},
   "outputs": [
    {
     "data": {
      "text/html": [
       "<table class=\"simpletable\">\n",
       "<caption>ARIMA Model Results</caption>\n",
       "<tr>\n",
       "  <th>Dep. Variable:</th>      <td>D.Rain</td>      <th>  No. Observations:  </th>    <td>3594</td>   \n",
       "</tr>\n",
       "<tr>\n",
       "  <th>Model:</th>          <td>ARIMA(1, 1, 2)</td>  <th>  Log Likelihood     </th> <td>-20412.440</td>\n",
       "</tr>\n",
       "<tr>\n",
       "  <th>Method:</th>             <td>css-mle</td>     <th>  S.D. of innovations</th>   <td>70.853</td>  \n",
       "</tr>\n",
       "<tr>\n",
       "  <th>Date:</th>          <td>Mon, 19 Jul 2021</td> <th>  AIC                </th>  <td>40834.881</td>\n",
       "</tr>\n",
       "<tr>\n",
       "  <th>Time:</th>              <td>16:11:38</td>     <th>  BIC                </th>  <td>40865.816</td>\n",
       "</tr>\n",
       "<tr>\n",
       "  <th>Sample:</th>           <td>01-02-2011</td>    <th>  HQIC               </th>  <td>40845.906</td>\n",
       "</tr>\n",
       "<tr>\n",
       "  <th></th>                 <td>- 11-03-2020</td>   <th>                     </th>      <td> </td>    \n",
       "</tr>\n",
       "</table>\n",
       "<table class=\"simpletable\">\n",
       "<tr>\n",
       "        <td></td>          <th>coef</th>     <th>std err</th>      <th>z</th>      <th>P>|z|</th>  <th>[0.025</th>    <th>0.975]</th>  \n",
       "</tr>\n",
       "<tr>\n",
       "  <th>const</th>        <td>   -0.4754</td> <td>    1.325</td> <td>   -0.359</td> <td> 0.720</td> <td>   -3.073</td> <td>    2.122</td>\n",
       "</tr>\n",
       "<tr>\n",
       "  <th>ar.L1.D.Rain</th> <td>    0.7884</td> <td>    0.033</td> <td>   23.701</td> <td> 0.000</td> <td>    0.723</td> <td>    0.854</td>\n",
       "</tr>\n",
       "<tr>\n",
       "  <th>ma.L1.D.Rain</th> <td>   -1.1922</td> <td>    0.032</td> <td>  -37.548</td> <td> 0.000</td> <td>   -1.254</td> <td>   -1.130</td>\n",
       "</tr>\n",
       "<tr>\n",
       "  <th>ma.L2.D.Rain</th> <td>    0.4296</td> <td>    0.015</td> <td>   28.261</td> <td> 0.000</td> <td>    0.400</td> <td>    0.459</td>\n",
       "</tr>\n",
       "</table>\n",
       "<table class=\"simpletable\">\n",
       "<caption>Roots</caption>\n",
       "<tr>\n",
       "    <td></td>   <th>            Real</th>  <th>         Imaginary</th> <th>         Modulus</th>  <th>        Frequency</th>\n",
       "</tr>\n",
       "<tr>\n",
       "  <th>AR.1</th> <td>           1.2684</td> <td>          +0.0000j</td> <td>           1.2684</td> <td>           0.0000</td>\n",
       "</tr>\n",
       "<tr>\n",
       "  <th>MA.1</th> <td>           1.3876</td> <td>          -0.6344j</td> <td>           1.5257</td> <td>          -0.0683</td>\n",
       "</tr>\n",
       "<tr>\n",
       "  <th>MA.2</th> <td>           1.3876</td> <td>          +0.6344j</td> <td>           1.5257</td> <td>           0.0683</td>\n",
       "</tr>\n",
       "</table>"
      ],
      "text/plain": [
       "<class 'statsmodels.iolib.summary.Summary'>\n",
       "\"\"\"\n",
       "                             ARIMA Model Results                              \n",
       "==============================================================================\n",
       "Dep. Variable:                 D.Rain   No. Observations:                 3594\n",
       "Model:                 ARIMA(1, 1, 2)   Log Likelihood              -20412.440\n",
       "Method:                       css-mle   S.D. of innovations             70.853\n",
       "Date:                Mon, 19 Jul 2021   AIC                          40834.881\n",
       "Time:                        16:11:38   BIC                          40865.816\n",
       "Sample:                    01-02-2011   HQIC                         40845.906\n",
       "                         - 11-03-2020                                         \n",
       "================================================================================\n",
       "                   coef    std err          z      P>|z|      [0.025      0.975]\n",
       "--------------------------------------------------------------------------------\n",
       "const           -0.4754      1.325     -0.359      0.720      -3.073       2.122\n",
       "ar.L1.D.Rain     0.7884      0.033     23.701      0.000       0.723       0.854\n",
       "ma.L1.D.Rain    -1.1922      0.032    -37.548      0.000      -1.254      -1.130\n",
       "ma.L2.D.Rain     0.4296      0.015     28.261      0.000       0.400       0.459\n",
       "                                    Roots                                    \n",
       "=============================================================================\n",
       "                  Real          Imaginary           Modulus         Frequency\n",
       "-----------------------------------------------------------------------------\n",
       "AR.1            1.2684           +0.0000j            1.2684            0.0000\n",
       "MA.1            1.3876           -0.6344j            1.5257           -0.0683\n",
       "MA.2            1.3876           +0.6344j            1.5257            0.0683\n",
       "-----------------------------------------------------------------------------\n",
       "\"\"\""
      ]
     },
     "execution_count": 12,
     "metadata": {},
     "output_type": "execute_result"
    }
   ],
   "source": [
    "model=ARIMA(train['Rain'],order=(1,1,2))\n",
    "model=model.fit()\n",
    "model.summary()"
   ]
  },
  {
   "cell_type": "code",
   "execution_count": 13,
   "id": "0298417f",
   "metadata": {},
   "outputs": [
    {
     "name": "stdout",
     "output_type": "stream",
     "text": [
      "Date\n",
      "2020-11-04    1532.123640\n",
      "2020-11-05    1529.526365\n",
      "2020-11-06    1527.378046\n",
      "2020-11-07    1525.583689\n",
      "2020-11-08    1524.068403\n",
      "2020-11-09    1522.773141\n",
      "2020-11-10    1521.651349\n",
      "2020-11-11    1520.666323\n",
      "2020-11-12    1519.789127\n",
      "2020-11-13    1518.996944\n",
      "2020-11-14    1518.271789\n",
      "2020-11-15    1517.599478\n",
      "2020-11-16    1516.968831\n",
      "2020-11-17    1516.371032\n",
      "2020-11-18    1515.799131\n",
      "2020-11-19    1515.247649\n",
      "2020-11-20    1514.712265\n",
      "2020-11-21    1514.189574\n",
      "2020-11-22    1513.676889\n",
      "2020-11-23    1513.172093\n",
      "2020-11-24    1512.673518\n",
      "2020-11-25    1512.179847\n",
      "2020-11-26    1511.690042\n",
      "2020-11-27    1511.203286\n",
      "2020-11-28    1510.718932\n",
      "2020-11-29    1510.236474\n",
      "2020-11-30    1509.755510\n",
      "2020-12-01    1509.275724\n",
      "2020-12-02    1508.796866\n",
      "2020-12-03    1508.318741\n",
      "dtype: float64\n"
     ]
    }
   ],
   "source": [
    "start=len(train)\n",
    "end=len(train)+len(test)-1\n",
    "pred=model.predict(start=start,end=end,typ='levels')\n",
    "pred.index=df.index[start:end+1]\n",
    "print(pred)"
   ]
  },
  {
   "cell_type": "code",
   "execution_count": 14,
   "id": "c3918c64",
   "metadata": {},
   "outputs": [
    {
     "data": {
      "text/plain": [
       "<AxesSubplot:xlabel='Date'>"
      ]
     },
     "execution_count": 14,
     "metadata": {},
     "output_type": "execute_result"
    },
    {
     "data": {
      "image/png": "[encoded data removed]",
      "text/plain": [
       "<Figure size 432x288 with 1 Axes>"
      ]
     },
     "metadata": {
      "needs_background": "light"
     },
     "output_type": "display_data"
    }
   ],
   "source": [
    "pred.plot(legend=True)\n",
    "test['Rain'].plot(legend=True)"
   ]
  },
  {
   "cell_type": "code",
   "execution_count": 15,
   "id": "76686f4f",
   "metadata": {},
   "outputs": [
    {
     "data": {
      "text/plain": [
       "1830.5666666666666"
      ]
     },
     "execution_count": 15,
     "metadata": {},
     "output_type": "execute_result"
    }
   ],
   "source": [
    "test['Rain'].mean()"
   ]
  },
  {
   "cell_type": "code",
   "execution_count": 16,
   "id": "f0204bc1",
   "metadata": {},
   "outputs": [
    {
     "name": "stdout",
     "output_type": "stream",
     "text": [
      "628.3057624759057\n"
     ]
    }
   ],
   "source": [
    "from sklearn.metrics import mean_squared_error\n",
    "from math import sqrt\n",
    "rmse=sqrt(mean_squared_error(pred,test['Rain']))\n",
    "print(rmse)"
   ]
  },
  {
   "cell_type": "code",
   "execution_count": 17,
   "id": "73e8c115",
   "metadata": {},
   "outputs": [
    {
     "data": {
      "text/html": [
       "<div>\n",
       "<style scoped>\n",
       "    .dataframe tbody tr th:only-of-type {\n",
       "        vertical-align: middle;\n",
       "    }\n",
       "\n",
       "    .dataframe tbody tr th {\n",
       "        vertical-align: top;\n",
       "    }\n",
       "\n",
       "    .dataframe thead th {\n",
       "        text-align: right;\n",
       "    }\n",
       "</style>\n",
       "<table border=\"1\" class=\"dataframe\">\n",
       "  <thead>\n",
       "    <tr style=\"text-align: right;\">\n",
       "      <th></th>\n",
       "      <th>Rain</th>\n",
       "    </tr>\n",
       "    <tr>\n",
       "      <th>Date</th>\n",
       "      <th></th>\n",
       "    </tr>\n",
       "  </thead>\n",
       "  <tbody>\n",
       "    <tr>\n",
       "      <th>2020-11-29</th>\n",
       "      <td>2814</td>\n",
       "    </tr>\n",
       "    <tr>\n",
       "      <th>2020-11-30</th>\n",
       "      <td>2848</td>\n",
       "    </tr>\n",
       "    <tr>\n",
       "      <th>2020-12-01</th>\n",
       "      <td>2902</td>\n",
       "    </tr>\n",
       "    <tr>\n",
       "      <th>2020-12-02</th>\n",
       "      <td>2873</td>\n",
       "    </tr>\n",
       "    <tr>\n",
       "      <th>2020-12-03</th>\n",
       "      <td>2867</td>\n",
       "    </tr>\n",
       "  </tbody>\n",
       "</table>\n",
       "</div>"
      ],
      "text/plain": [
       "            Rain\n",
       "Date            \n",
       "2020-11-29  2814\n",
       "2020-11-30  2848\n",
       "2020-12-01  2902\n",
       "2020-12-02  2873\n",
       "2020-12-03  2867"
      ]
     },
     "execution_count": 17,
     "metadata": {},
     "output_type": "execute_result"
    }
   ],
   "source": [
    "model2=ARIMA(df['Rain'],order=(1,1,2))\n",
    "model2=model2.fit()\n",
    "df.tail()"
   ]
  },
  {
   "cell_type": "code",
   "execution_count": 18,
   "id": "ace4b8f9",
   "metadata": {},
   "outputs": [
    {
     "name": "stdout",
     "output_type": "stream",
     "text": [
      "2020-12-03    2955.968776\n",
      "2020-12-04    2974.248523\n",
      "2020-12-05    2988.950838\n",
      "2020-12-06    3000.773950\n",
      "2020-12-07    3010.279812\n",
      "2020-12-08    3017.920696\n",
      "2020-12-09    3024.060601\n",
      "2020-12-10    3028.992483\n",
      "2020-12-11    3032.952119\n",
      "2020-12-12    3036.129269\n",
      "2020-12-13    3038.676654\n",
      "2020-12-14    3040.717191\n",
      "2020-12-15    3042.349804\n",
      "2020-12-16    3043.654110\n",
      "2020-12-17    3044.694187\n",
      "2020-12-18    3045.521606\n",
      "2020-12-19    3046.177872\n",
      "2020-12-20    3046.696392\n",
      "2020-12-21    3047.104049\n",
      "2020-12-22    3047.422481\n",
      "2020-12-23    3047.669103\n",
      "2020-12-24    3047.857931\n",
      "2020-12-25    3048.000245\n",
      "2020-12-26    3048.105122\n",
      "2020-12-27    3048.179870\n",
      "2020-12-28    3048.230370\n",
      "2020-12-29    3048.261354\n",
      "2020-12-30    3048.276630\n",
      "2020-12-31    3048.279266\n",
      "Freq: D, Name: ARIMA Predictions, dtype: float64\n"
     ]
    }
   ],
   "source": [
    "index_future_dates=pd.date_range(start='2020-12-03',end='2020-12-31')\n",
    "pred=model2.predict(start=len(df),end=len(df)+28,typ='levels').rename('ARIMA Predictions')\n",
    "pred.index=index_future_dates\n",
    "print(pred)"
   ]
  },
  {
   "cell_type": "code",
   "execution_count": 19,
   "id": "5f1c53a0",
   "metadata": {},
   "outputs": [
    {
     "data": {
      "text/plain": [
       "<AxesSubplot:xlabel='Date', ylabel='Close'>"
      ]
     },
     "execution_count": 19,
     "metadata": {},
     "output_type": "execute_result"
    },
    {
     "data": {
      "image/png": "[encoded data removed]",
      "text/plain": [
       "<Figure size 432x288 with 1 Axes>"
      ]
     },
     "metadata": {
      "needs_background": "light"
     },
     "output_type": "display_data"
    }
   ],
   "source": [
    "pred.plot(legend=True,xlabel='Date',ylabel='Close')"
   ]
  },
  {
   "cell_type": "code",
   "execution_count": null,
   "id": "fad6d21b",
   "metadata": {},
   "outputs": [],
   "source": []
  }
 ],
 "metadata": {
  "kernelspec": {
   "display_name": "Python 3",
   "language": "python",
   "name": "python3"
  },
  "language_info": {
   "codemirror_mode": {
    "name": "ipython",
    "version": 3
   },
   "file_extension": ".py",
   "mimetype": "text/x-python",
   "name": "python",
   "nbconvert_exporter": "python",
   "pygments_lexer": "ipython3",
   "version": "3.8.8"
  }
 },
 "nbformat": 4,
 "nbformat_minor": 5
}
